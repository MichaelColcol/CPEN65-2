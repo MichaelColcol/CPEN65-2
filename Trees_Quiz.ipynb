{
  "nbformat": 4,
  "nbformat_minor": 0,
  "metadata": {
    "colab": {
      "provenance": [],
      "authorship_tag": "ABX9TyPAtC0tj7wDgM7YI4laDXfn",
      "include_colab_link": true
    },
    "kernelspec": {
      "name": "python3",
      "display_name": "Python 3"
    },
    "language_info": {
      "name": "python"
    }
  },
  "cells": [
    {
      "cell_type": "markdown",
      "metadata": {
        "id": "view-in-github",
        "colab_type": "text"
      },
      "source": [
        "<a href=\"https://colab.research.google.com/github/MichaelColcol/CPEN65-2/blob/main/Trees_Quiz.ipynb\" target=\"_parent\"><img src=\"https://colab.research.google.com/assets/colab-badge.svg\" alt=\"Open In Colab\"/></a>"
      ]
    },
    {
      "cell_type": "code",
      "source": [
        "6. Children of node 16?\n",
        "   Nodes = 13, 6, 60\n",
        "\n",
        "7. Parent of node 1?\n",
        "   Nodes = 7\n",
        "\n",
        "8. Siblings of node 23?\n",
        "   Nodes =\n",
        "\n",
        "9. Ancestors of node 9?\n",
        "   Nodes = 4, 12, 7, 22\n",
        "\n",
        "10. Descendants of node 16?\n",
        "    Nodes = 13, 23, 6, 60, 21\n",
        "\n",
        "11. Leaves.\n",
        "    Nodes = 23, 6, 21, 20, 9, 1\n",
        "\n",
        "12. Non Leaves.\n",
        "    Nodes = 13, 16, 60, 12, 7, 22\n",
        "  \n",
        "13. Depth of node 4?\n",
        "    Answer : 3\n",
        "  \n",
        "14. Degree of the tree?\n",
        "    Answer : 3\n",
        "\n",
        "15. Height of the tree?\n",
        "    Answer : 4\n",
        "\n",
        "16. Weight of the tree?\n",
        "    Answer : 6\n",
        "\n",
        "17. Is the tree a binary tree?\n",
        "    Answer : No, because node 16 has a degree/number of children of 3 \n",
        "\n",
        "18. Removing 6, is the tree a full binary tree?\n",
        "    Answer : No, because nodes 13 and 60 only has one child or a degree of one\n",
        "\n",
        "19. Removing 6, is the tree a complete binary tree?\n",
        "    Answer : No, because leaf node 1 has a depth of two, as do leaf nodes 23, 21, and 20, as well as leaf nodes 9, 3, and 4.\n",
        "             The non-leaf nodes of degree one are nodes 13, 60, and 4, while degree two non-leaf nodes are nodes 16, 12, 7, and 22.\n",
        "\n",
        "20. Is a full binary tree complete?\n",
        "    Answer : No, because one of the requirements for a full binary tree to be considered complete is that every node have an exact angle of 2 degrees.\n",
        "             However, it also adds that all leaf nodes must always have the same depth for a k-ary tree to be called complete, \n",
        "             although a full binary tree's leaf depths might differ. Because of this, a full binary tree cannot be considered for being done.\n",
        "\n",
        "21.) Is a complete binary tree full?\n",
        "     Answer: Yes, Because a complete 2-ary tree should, in fact, have leaf nodes of the same depth as well as all of the non-leaf nodes.\n",
        "              has a degree of two, which is also the minimum standard for a tree to be deemed a full binary tree.\n",
        "\n",
        "22.) How many leaves does a complete n-ary tree of height h have?.\n",
        "     Answer: To find the leaves, just use formula n^h. For example the given value of n = 2 and for h = 3, Leaves = 2^4 \n",
        "              the answer is 16 leaf nodes\n",
        "\n",
        "23. What is the height of a complete n-ary tree with m leaves?.\n",
        "    Answer: The height is calculated using the formula log base of n (m) For example n = 2 and m = 16 , Log base of 2 (16)\n",
        "            the height of the tree is 2 \n",
        "\n",
        "24. What is the number of internal nodes of a complete n-ary tree of height h?.\n",
        "    Answer : The number of internal nodes in the tree can be calculated using the formula \n",
        "             (n^h-1)/(n-1) for example h = 2 and n =3, \n",
        "             (3^2-1)/(3-1) In the tree, there are 4 internal nodes.\n",
        "            \n",
        "25. What is the total number of nodes a complete n-ary tree of h have?\n",
        "    Answer: The following formula will calculate the total number of nodes is (n^(h+1)-1)/(n-1). for example h = 2 and n = 3,\n",
        "            (3^(2+1)-1)/(3-1). The number of existing nodes in the tree is 13\n",
        "\n"
      ],
      "metadata": {
        "id": "lXVwteiBd3QK"
      },
      "execution_count": null,
      "outputs": []
    }
  ]
}