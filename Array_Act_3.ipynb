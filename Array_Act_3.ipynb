{
  "nbformat": 4,
  "nbformat_minor": 0,
  "metadata": {
    "colab": {
      "provenance": [],
      "authorship_tag": "ABX9TyPQ9hsBRjH/EZoFmzXDRLjE",
      "include_colab_link": true
    },
    "kernelspec": {
      "name": "python3",
      "display_name": "Python 3"
    },
    "language_info": {
      "name": "python"
    }
  },
  "cells": [
    {
      "cell_type": "markdown",
      "metadata": {
        "id": "view-in-github",
        "colab_type": "text"
      },
      "source": [
        "<a href=\"https://colab.research.google.com/github/MichaelColcol/CPEN65-2/blob/main/Array_Act_3.ipynb\" target=\"_parent\"><img src=\"https://colab.research.google.com/assets/colab-badge.svg\" alt=\"Open In Colab\"/></a>"
      ]
    },
    {
      "cell_type": "code",
      "execution_count": 60,
      "metadata": {
        "colab": {
          "base_uri": "https://localhost:8080/"
        },
        "id": "WhjpLxF-ECsI",
        "outputId": "b167111a-17a1-4b6c-d7d9-c06b6337e50c"
      },
      "outputs": [
        {
          "output_type": "stream",
          "name": "stdout",
          "text": [
            "['M', 'I', 'C', 'H', 'A', 'E', 'L', ' ', 'C', 'O', 'L', 'C', 'O', 'L']\n",
            "LOCLOC LEAHCIM\n"
          ]
        }
      ],
      "source": [
        "#Create a Python program that use Array. Insert each character of your fullname and displays each character of your full name in reverse order.\n",
        "Fullname =[\"M\",\"I\",\"C\", \"H\", \"A\", \"E\", \"L\",  ' ', \"C\", \"O\", \"L\", \"C\", \"O\", \"L\"]\n",
        "print(Fullname)\n",
        "Name = \"\"\n",
        "Fullname.reverse()\n",
        "print(Name.join(Fullname))\n"
      ]
    }
  ]
}